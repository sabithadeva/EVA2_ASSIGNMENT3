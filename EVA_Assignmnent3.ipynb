{
  "nbformat": 4,
  "nbformat_minor": 0,
  "metadata": {
    "colab": {
      "name": "Untitled2.ipynb",
      "version": "0.3.2",
      "provenance": [],
      "collapsed_sections": []
    },
    "kernelspec": {
      "name": "python3",
      "display_name": "Python 3"
    },
    "accelerator": "GPU"
  },
  "cells": [
    {
      "cell_type": "code",
      "metadata": {
        "id": "C_IT9nB-RFdz",
        "colab_type": "code",
        "colab": {
          "base_uri": "https://localhost:8080/",
          "height": 34
        },
        "outputId": "85289606-8c1b-461d-a142-fa92c188743c"
      },
      "source": [
        "# https://keras.io/\n",
        "!pip install -q keras\n",
        "import keras"
      ],
      "execution_count": 1,
      "outputs": [
        {
          "output_type": "stream",
          "text": [
            "Using TensorFlow backend.\n"
          ],
          "name": "stderr"
        }
      ]
    },
    {
      "cell_type": "markdown",
      "metadata": {
        "id": "tuZvocQiVdsc",
        "colab_type": "text"
      },
      "source": [
        "**Importing the numpy, keras libraries for mathematical computational and building convolutional neural network respectively**\n",
        "\n",
        "**Importing MNIST dataset**"
      ]
    },
    {
      "cell_type": "code",
      "metadata": {
        "id": "N5ScVBlkRSCH",
        "colab_type": "code",
        "colab": {}
      },
      "source": [
        "import numpy as np\n",
        "\n",
        "from keras.models import Sequential\n",
        "from keras.layers import Dense, Dropout, Activation, Flatten, Add\n",
        "from keras.layers import Convolution2D, MaxPooling2D\n",
        "from keras.utils import np_utils\n",
        "\n",
        "from keras.datasets import mnist"
      ],
      "execution_count": 0,
      "outputs": []
    },
    {
      "cell_type": "markdown",
      "metadata": {
        "id": "CZp6teuYRV6_",
        "colab_type": "text"
      },
      "source": [
        "**Load pre-shuffled MNIST data into train and test sets**"
      ]
    },
    {
      "cell_type": "code",
      "metadata": {
        "id": "a5VINCpARYaZ",
        "colab_type": "code",
        "colab": {}
      },
      "source": [
        "(X_train, y_train), (X_test, y_test) = mnist.load_data()"
      ],
      "execution_count": 0,
      "outputs": []
    },
    {
      "cell_type": "markdown",
      "metadata": {
        "id": "miNCQz1kV447",
        "colab_type": "text"
      },
      "source": [
        "**Printing the shape of the train dataset. It says that there are 60000 images of dimension 28X28X3**"
      ]
    },
    {
      "cell_type": "code",
      "metadata": {
        "id": "KWU8_o-aRfiR",
        "colab_type": "code",
        "colab": {
          "base_uri": "https://localhost:8080/",
          "height": 302
        },
        "outputId": "53387fc2-0474-4312-acf4-5af41845bea0"
      },
      "source": [
        "print (X_train.shape)\n",
        "from matplotlib import pyplot as plt\n",
        "%matplotlib inline\n",
        "plt.imshow(X_train[0])"
      ],
      "execution_count": 4,
      "outputs": [
        {
          "output_type": "stream",
          "text": [
            "(60000, 28, 28)\n"
          ],
          "name": "stdout"
        },
        {
          "output_type": "execute_result",
          "data": {
            "text/plain": [
              "<matplotlib.image.AxesImage at 0x7f482c1b3208>"
            ]
          },
          "metadata": {
            "tags": []
          },
          "execution_count": 4
        },
        {
          "output_type": "display_data",
          "data": {
            "image/png": "[encoded data removed]",
            "text/plain": [
              "<Figure size 432x288 with 1 Axes>"
            ]
          },
          "metadata": {
            "tags": []
          }
        }
      ]
    },
    {
      "cell_type": "markdown",
      "metadata": {
        "id": "pa5aaLaUWIvX",
        "colab_type": "text"
      },
      "source": [
        "**Reshaping the RGB image to gray scale**"
      ]
    },
    {
      "cell_type": "code",
      "metadata": {
        "id": "SjhCQQKeRlHa",
        "colab_type": "code",
        "colab": {}
      },
      "source": [
        "X_train = X_train.reshape(X_train.shape[0], 28, 28,1)\n",
        "X_test = X_test.reshape(X_test.shape[0], 28, 28,1)"
      ],
      "execution_count": 0,
      "outputs": []
    },
    {
      "cell_type": "markdown",
      "metadata": {
        "id": "iFCx5ZLIWT2D",
        "colab_type": "text"
      },
      "source": [
        "**Normalizing the grey scale image, where 0 represents black and 255 represents white**"
      ]
    },
    {
      "cell_type": "code",
      "metadata": {
        "id": "_34Tx6NQRtib",
        "colab_type": "code",
        "colab": {}
      },
      "source": [
        "X_train = X_train.astype('float32')\n",
        "X_test = X_test.astype('float32')\n",
        "X_train /= 255\n",
        "X_test /= 255"
      ],
      "execution_count": 0,
      "outputs": []
    },
    {
      "cell_type": "markdown",
      "metadata": {
        "id": "Bt4doaF2WhGP",
        "colab_type": "text"
      },
      "source": [
        "**Printing the dependent varaible, which we are trying to predict**"
      ]
    },
    {
      "cell_type": "code",
      "metadata": {
        "id": "JfFCcSQ8RxTA",
        "colab_type": "code",
        "colab": {
          "base_uri": "https://localhost:8080/",
          "height": 34
        },
        "outputId": "0572ea10-3f6c-43fb-9a09-749082306451"
      },
      "source": [
        "y_train[:10]"
      ],
      "execution_count": 7,
      "outputs": [
        {
          "output_type": "execute_result",
          "data": {
            "text/plain": [
              "array([5, 0, 4, 1, 9, 2, 1, 3, 1, 4], dtype=uint8)"
            ]
          },
          "metadata": {
            "tags": []
          },
          "execution_count": 7
        }
      ]
    },
    {
      "cell_type": "markdown",
      "metadata": {
        "id": "9Qyhz026WvJ5",
        "colab_type": "text"
      },
      "source": [
        "**Convert 1-dimensional class arrays to 10-dimensional class matrices**"
      ]
    },
    {
      "cell_type": "code",
      "metadata": {
        "id": "t-lY5bCMR4Eh",
        "colab_type": "code",
        "colab": {}
      },
      "source": [
        "# Convert 1-dimensional class arrays to 10-dimensional class matrices\n",
        "Y_train = np_utils.to_categorical(y_train, 10)\n",
        "Y_test = np_utils.to_categorical(y_test, 10)"
      ],
      "execution_count": 0,
      "outputs": []
    },
    {
      "cell_type": "markdown",
      "metadata": {
        "id": "8O_RALQPW2tT",
        "colab_type": "text"
      },
      "source": [
        "**Printing the dependent after converting it into 10-dimensional**"
      ]
    },
    {
      "cell_type": "code",
      "metadata": {
        "id": "u3-vfcV6R_mj",
        "colab_type": "code",
        "colab": {
          "base_uri": "https://localhost:8080/",
          "height": 185
        },
        "outputId": "f2e6373d-ed1f-4fa8-ecfd-79b44ce96572"
      },
      "source": [
        "Y_train[:10]"
      ],
      "execution_count": 9,
      "outputs": [
        {
          "output_type": "execute_result",
          "data": {
            "text/plain": [
              "array([[0., 0., 0., 0., 0., 1., 0., 0., 0., 0.],\n",
              "       [1., 0., 0., 0., 0., 0., 0., 0., 0., 0.],\n",
              "       [0., 0., 0., 0., 1., 0., 0., 0., 0., 0.],\n",
              "       [0., 1., 0., 0., 0., 0., 0., 0., 0., 0.],\n",
              "       [0., 0., 0., 0., 0., 0., 0., 0., 0., 1.],\n",
              "       [0., 0., 1., 0., 0., 0., 0., 0., 0., 0.],\n",
              "       [0., 1., 0., 0., 0., 0., 0., 0., 0., 0.],\n",
              "       [0., 0., 0., 1., 0., 0., 0., 0., 0., 0.],\n",
              "       [0., 1., 0., 0., 0., 0., 0., 0., 0., 0.],\n",
              "       [0., 0., 0., 0., 1., 0., 0., 0., 0., 0.]], dtype=float32)"
            ]
          },
          "metadata": {
            "tags": []
          },
          "execution_count": 9
        }
      ]
    },
    {
      "cell_type": "markdown",
      "metadata": {
        "id": "dFELDUCnWzVw",
        "colab_type": "text"
      },
      "source": [
        "**Building Convolutional network such that the parameters used are less than 20000. The global receptive field is maintained as the size of the image.**"
      ]
    },
    {
      "cell_type": "code",
      "metadata": {
        "id": "1-o7LlE7SA44",
        "colab_type": "code",
        "colab": {
          "base_uri": "https://localhost:8080/",
          "height": 843
        },
        "outputId": "59affcc0-c1b3-494a-a12b-fc7e644b9725"
      },
      "source": [
        "from keras.layers import Activation, MaxPooling2D\n",
        "model = Sequential() \n",
        "model.add(Convolution2D(18, 3, 3, activation='relu', input_shape=(28,28,1))) # I/P=28X28X1 | (3X3X1)X18 | O/P 26X26X18 | RF=3X3\n",
        "model.add(Convolution2D(20, 3, 3, activation='relu'))# I/P= 26X26X18 | (3X3X18)X20 | O/P 24X24X20 | RF=5X5\n",
        "model.add(MaxPooling2D(pool_size=(2, 2))) # I/P= 24X264X20 | MP (2X2) | O/P 12X12X20 | RF=10X10\n",
        "model.add(Convolution2D(22,3,3, activation='relu')) # I/P= 12X12X20 | (3X3X20)X22 | O/P 10X10X22 | RF=12X12\n",
        "model.add(MaxPooling2D(pool_size=(2, 2)))# I/P= 10X10X22 | MP (2X2) | O/P 5X5X22 | RF=24X24\n",
        "model.add(Convolution2D(24, 3, 3, activation='relu')) # I/P= 5X5X22 | MP (3X3X22)X24 | O/P 3X3X24 | RF=26X26\n",
        "model.add(Convolution2D(26, 3, 3, activation='relu')) # I/P= 3X3X24 | (3X3X24)X26 | O/P 1X1X26 | RF=28X28\n",
        "model.add(Convolution2D(10, 1, 1)) # I/P= 1X1X26 |  (1X1X26)X10 | O/P 1X1X10 | RF=28X28\n",
        "model.add(Flatten())\n",
        "model.add(Activation('softmax'))\n",
        "model.summary()"
      ],
      "execution_count": 10,
      "outputs": [
        {
          "output_type": "stream",
          "text": [
            "WARNING: Logging before flag parsing goes to stderr.\n",
            "W0808 20:28:40.836252 139949210470272 deprecation_wrapper.py:119] From /usr/local/lib/python3.6/dist-packages/keras/backend/tensorflow_backend.py:74: The name tf.get_default_graph is deprecated. Please use tf.compat.v1.get_default_graph instead.\n",
            "\n",
            "/usr/local/lib/python3.6/dist-packages/ipykernel_launcher.py:3: UserWarning: Update your `Conv2D` call to the Keras 2 API: `Conv2D(18, (3, 3), activation=\"relu\", input_shape=(28, 28, 1...)`\n",
            "  This is separate from the ipykernel package so we can avoid doing imports until\n",
            "W0808 20:28:40.853154 139949210470272 deprecation_wrapper.py:119] From /usr/local/lib/python3.6/dist-packages/keras/backend/tensorflow_backend.py:517: The name tf.placeholder is deprecated. Please use tf.compat.v1.placeholder instead.\n",
            "\n",
            "W0808 20:28:40.856440 139949210470272 deprecation_wrapper.py:119] From /usr/local/lib/python3.6/dist-packages/keras/backend/tensorflow_backend.py:4138: The name tf.random_uniform is deprecated. Please use tf.random.uniform instead.\n",
            "\n",
            "/usr/local/lib/python3.6/dist-packages/ipykernel_launcher.py:4: UserWarning: Update your `Conv2D` call to the Keras 2 API: `Conv2D(20, (3, 3), activation=\"relu\")`\n",
            "  after removing the cwd from sys.path.\n",
            "W0808 20:28:40.892945 139949210470272 deprecation_wrapper.py:119] From /usr/local/lib/python3.6/dist-packages/keras/backend/tensorflow_backend.py:3976: The name tf.nn.max_pool is deprecated. Please use tf.nn.max_pool2d instead.\n",
            "\n"
          ],
          "name": "stderr"
        },
        {
          "output_type": "stream",
          "text": [
            "_________________________________________________________________\n",
            "Layer (type)                 Output Shape              Param #   \n",
            "=================================================================\n",
            "conv2d_1 (Conv2D)            (None, 26, 26, 18)        180       \n",
            "_________________________________________________________________\n",
            "conv2d_2 (Conv2D)            (None, 24, 24, 20)        3260      \n",
            "_________________________________________________________________\n",
            "max_pooling2d_1 (MaxPooling2 (None, 12, 12, 20)        0         \n",
            "_________________________________________________________________\n",
            "conv2d_3 (Conv2D)            (None, 10, 10, 22)        3982      \n",
            "_________________________________________________________________\n",
            "max_pooling2d_2 (MaxPooling2 (None, 5, 5, 22)          0         \n",
            "_________________________________________________________________\n",
            "conv2d_4 (Conv2D)            (None, 3, 3, 24)          4776      \n",
            "_________________________________________________________________\n",
            "conv2d_5 (Conv2D)            (None, 1, 1, 26)          5642      \n",
            "_________________________________________________________________\n",
            "conv2d_6 (Conv2D)            (None, 1, 1, 10)          270       \n",
            "_________________________________________________________________\n",
            "flatten_1 (Flatten)          (None, 10)                0         \n",
            "_________________________________________________________________\n",
            "activation_1 (Activation)    (None, 10)                0         \n",
            "=================================================================\n",
            "Total params: 18,110\n",
            "Trainable params: 18,110\n",
            "Non-trainable params: 0\n",
            "_________________________________________________________________\n"
          ],
          "name": "stdout"
        },
        {
          "output_type": "stream",
          "text": [
            "/usr/local/lib/python3.6/dist-packages/ipykernel_launcher.py:6: UserWarning: Update your `Conv2D` call to the Keras 2 API: `Conv2D(22, (3, 3), activation=\"relu\")`\n",
            "  \n",
            "/usr/local/lib/python3.6/dist-packages/ipykernel_launcher.py:8: UserWarning: Update your `Conv2D` call to the Keras 2 API: `Conv2D(24, (3, 3), activation=\"relu\")`\n",
            "  \n",
            "/usr/local/lib/python3.6/dist-packages/ipykernel_launcher.py:9: UserWarning: Update your `Conv2D` call to the Keras 2 API: `Conv2D(26, (3, 3), activation=\"relu\")`\n",
            "  if __name__ == '__main__':\n",
            "/usr/local/lib/python3.6/dist-packages/ipykernel_launcher.py:10: UserWarning: Update your `Conv2D` call to the Keras 2 API: `Conv2D(10, (1, 1))`\n",
            "  # Remove the CWD from sys.path while we load stuff.\n"
          ],
          "name": "stderr"
        }
      ]
    },
    {
      "cell_type": "code",
      "metadata": {
        "id": "wIFg6MhySHxp",
        "colab_type": "code",
        "colab": {
          "base_uri": "https://localhost:8080/",
          "height": 104
        },
        "outputId": "70f82ec2-f7c2-494f-cdb0-5760fb322756"
      },
      "source": [
        "model.compile(loss='categorical_crossentropy',\n",
        "             optimizer='adam',\n",
        "             metrics=['accuracy'])"
      ],
      "execution_count": 11,
      "outputs": [
        {
          "output_type": "stream",
          "text": [
            "W0808 20:28:40.995598 139949210470272 deprecation_wrapper.py:119] From /usr/local/lib/python3.6/dist-packages/keras/optimizers.py:790: The name tf.train.Optimizer is deprecated. Please use tf.compat.v1.train.Optimizer instead.\n",
            "\n",
            "W0808 20:28:41.028580 139949210470272 deprecation_wrapper.py:119] From /usr/local/lib/python3.6/dist-packages/keras/backend/tensorflow_backend.py:3295: The name tf.log is deprecated. Please use tf.math.log instead.\n",
            "\n"
          ],
          "name": "stderr"
        }
      ]
    },
    {
      "cell_type": "markdown",
      "metadata": {
        "id": "vG1m9Aa2bkQ0",
        "colab_type": "text"
      },
      "source": [
        "**Training the model by setting the batch size and number of epochs**"
      ]
    },
    {
      "cell_type": "code",
      "metadata": {
        "id": "DyVkUMtgSMem",
        "colab_type": "code",
        "colab": {
          "base_uri": "https://localhost:8080/",
          "height": 675
        },
        "outputId": "bf9c9722-cc90-41bb-ad7a-6e6214bc847e"
      },
      "source": [
        "model.fit(X_train, Y_train, batch_size=32, nb_epoch=15, verbose=1)"
      ],
      "execution_count": 12,
      "outputs": [
        {
          "output_type": "stream",
          "text": [
            "/usr/local/lib/python3.6/dist-packages/ipykernel_launcher.py:1: UserWarning: The `nb_epoch` argument in `fit` has been renamed `epochs`.\n",
            "  \"\"\"Entry point for launching an IPython kernel.\n",
            "W0808 20:28:41.163440 139949210470272 deprecation.py:323] From /usr/local/lib/python3.6/dist-packages/tensorflow/python/ops/math_grad.py:1250: add_dispatch_support.<locals>.wrapper (from tensorflow.python.ops.array_ops) is deprecated and will be removed in a future version.\n",
            "Instructions for updating:\n",
            "Use tf.where in 2.0, which has the same broadcast rule as np.where\n",
            "W0808 20:28:41.330441 139949210470272 deprecation_wrapper.py:119] From /usr/local/lib/python3.6/dist-packages/keras/backend/tensorflow_backend.py:986: The name tf.assign_add is deprecated. Please use tf.compat.v1.assign_add instead.\n",
            "\n"
          ],
          "name": "stderr"
        },
        {
          "output_type": "stream",
          "text": [
            "Epoch 1/15\n",
            "60000/60000 [==============================] - 19s 314us/step - loss: 0.2063 - acc: 0.9358\n",
            "Epoch 2/15\n",
            "60000/60000 [==============================] - 17s 286us/step - loss: 0.0624 - acc: 0.9803\n",
            "Epoch 3/15\n",
            "60000/60000 [==============================] - 17s 287us/step - loss: 0.0449 - acc: 0.9859\n",
            "Epoch 4/15\n",
            "60000/60000 [==============================] - 17s 286us/step - loss: 0.0364 - acc: 0.9885\n",
            "Epoch 5/15\n",
            "60000/60000 [==============================] - 17s 287us/step - loss: 0.0303 - acc: 0.9904\n",
            "Epoch 6/15\n",
            "60000/60000 [==============================] - 17s 287us/step - loss: 0.0250 - acc: 0.9923\n",
            "Epoch 7/15\n",
            "60000/60000 [==============================] - 17s 286us/step - loss: 0.0229 - acc: 0.9925\n",
            "Epoch 8/15\n",
            "60000/60000 [==============================] - 17s 286us/step - loss: 0.0205 - acc: 0.9933\n",
            "Epoch 9/15\n",
            "60000/60000 [==============================] - 17s 286us/step - loss: 0.0178 - acc: 0.9943\n",
            "Epoch 10/15\n",
            "60000/60000 [==============================] - 17s 287us/step - loss: 0.0158 - acc: 0.9950\n",
            "Epoch 11/15\n",
            "60000/60000 [==============================] - 18s 292us/step - loss: 0.0145 - acc: 0.9953\n",
            "Epoch 12/15\n",
            "60000/60000 [==============================] - 17s 287us/step - loss: 0.0133 - acc: 0.9957\n",
            "Epoch 13/15\n",
            "60000/60000 [==============================] - 17s 287us/step - loss: 0.0117 - acc: 0.9961\n",
            "Epoch 14/15\n",
            "60000/60000 [==============================] - 17s 286us/step - loss: 0.0117 - acc: 0.9963\n",
            "Epoch 15/15\n",
            "60000/60000 [==============================] - 17s 286us/step - loss: 0.0108 - acc: 0.9967\n"
          ],
          "name": "stdout"
        },
        {
          "output_type": "execute_result",
          "data": {
            "text/plain": [
              "<keras.callbacks.History at 0x7f482914bf98>"
            ]
          },
          "metadata": {
            "tags": []
          },
          "execution_count": 12
        }
      ]
    },
    {
      "cell_type": "markdown",
      "metadata": {
        "id": "GjHsb3FZbwj9",
        "colab_type": "text"
      },
      "source": [
        "**Evaluating the trained model on the dataset**"
      ]
    },
    {
      "cell_type": "code",
      "metadata": {
        "id": "gCaOek5vZVs5",
        "colab_type": "code",
        "colab": {
          "base_uri": "https://localhost:8080/",
          "height": 34
        },
        "outputId": "fb76b581-db30-4a30-cb8c-08a4de430f9c"
      },
      "source": [
        "score = model.evaluate(X_test, Y_test, verbose=0)\n",
        "print(score)"
      ],
      "execution_count": 13,
      "outputs": [
        {
          "output_type": "stream",
          "text": [
            "[0.03441090327793218, 0.992]\n"
          ],
          "name": "stdout"
        }
      ]
    },
    {
      "cell_type": "markdown",
      "metadata": {
        "id": "dSbEwA8-b2k4",
        "colab_type": "text"
      },
      "source": [
        "**Predicting the dependent variable**"
      ]
    },
    {
      "cell_type": "code",
      "metadata": {
        "id": "3VOXJO3zZeSn",
        "colab_type": "code",
        "colab": {
          "base_uri": "https://localhost:8080/",
          "height": 487
        },
        "outputId": "7518ab09-f42f-457b-979c-fd011f5e508a"
      },
      "source": [
        "y_pred = model.predict(X_test)\n",
        "print(y_pred[:9])\n",
        "print(y_test[:9])"
      ],
      "execution_count": 14,
      "outputs": [
        {
          "output_type": "stream",
          "text": [
            "[[1.25787835e-13 1.64624200e-11 2.94992901e-08 1.07517995e-09\n",
            "  1.92160198e-13 4.27618661e-12 5.03588785e-20 1.00000000e+00\n",
            "  1.13109296e-11 4.60883776e-10]\n",
            " [6.21893205e-12 1.02315134e-09 1.00000000e+00 2.16590483e-12\n",
            "  8.40598885e-15 9.24402976e-19 4.65810288e-08 3.81807876e-17\n",
            "  3.63922607e-11 3.71670473e-19]\n",
            " [2.79864361e-11 1.00000000e+00 2.68286615e-10 2.05496811e-08\n",
            "  3.08067710e-10 3.05419441e-08 5.24451815e-10 2.15130136e-08\n",
            "  3.48588075e-10 6.92541802e-10]\n",
            " [9.99999523e-01 2.93023954e-15 1.57705812e-13 3.77487147e-12\n",
            "  8.41012576e-14 5.46493081e-13 4.31619185e-07 6.59994994e-14\n",
            "  7.15888546e-12 5.10605933e-11]\n",
            " [1.06910063e-16 6.10567419e-09 1.21502844e-14 4.21682316e-17\n",
            "  1.00000000e+00 6.63688642e-15 3.69089048e-12 7.14577486e-13\n",
            "  1.16688855e-11 4.57853311e-09]\n",
            " [1.58790665e-13 1.00000000e+00 3.08447365e-11 8.41556755e-11\n",
            "  6.19323981e-10 1.74225738e-11 1.11178005e-12 4.06654221e-09\n",
            "  1.08271128e-10 8.27814553e-11]\n",
            " [3.93510704e-22 4.74044315e-09 2.04197345e-15 1.48433789e-17\n",
            "  1.00000000e+00 1.08635554e-15 1.47008586e-11 2.95895773e-11\n",
            "  3.92740453e-08 2.14763294e-11]\n",
            " [6.46745284e-16 2.70507661e-11 1.91580172e-12 2.15074580e-09\n",
            "  4.13595245e-07 4.72538814e-11 8.16645309e-18 4.36607833e-11\n",
            "  5.22481960e-13 9.99999642e-01]\n",
            " [3.83627835e-13 2.13287938e-12 7.17855941e-10 8.87779694e-12\n",
            "  1.16439202e-11 9.60662305e-01 3.93367708e-02 3.02373610e-15\n",
            "  9.35753292e-07 1.95740455e-08]]\n",
            "[7 2 1 0 4 1 4 9 5]\n"
          ],
          "name": "stdout"
        }
      ]
    },
    {
      "cell_type": "code",
      "metadata": {
        "id": "-IgJfy7acDu3",
        "colab_type": "code",
        "colab": {}
      },
      "source": [
        "layer_dict = dict([(layer.name, layer) for layer in model.layers])"
      ],
      "execution_count": 0,
      "outputs": []
    },
    {
      "cell_type": "markdown",
      "metadata": {
        "id": "5zG8Ro1ReosF",
        "colab_type": "text"
      },
      "source": [
        "**Visualizing the features extracted at the end of every convolution**"
      ]
    },
    {
      "cell_type": "code",
      "metadata": {
        "id": "AhE4usQZcGE2",
        "colab_type": "code",
        "colab": {
          "base_uri": "https://localhost:8080/",
          "height": 741
        },
        "outputId": "6fbca0d0-5828-4dc5-ce15-3a9286b59007"
      },
      "source": [
        "from matplotlib import pyplot as plt\n",
        "from keras import backend as K\n",
        "import numpy as np\n",
        "from keras.models import Sequential\n",
        "from keras.layers.convolutional import Convolution2D\n",
        "from keras.layers.core import Flatten, Dense, Activation\n",
        "from keras.utils import np_utils\n",
        "%matplotlib inline\n",
        "# util function to convert a tensor into a valid image\n",
        "def deprocess_image(x):\n",
        "    # normalize tensor: center on 0., ensure std is 0.1\n",
        "    x -= x.mean()\n",
        "    x /= (x.std() + 1e-5)\n",
        "    x *= 0.1\n",
        "\n",
        "    # clip to [0, 1]\n",
        "    x += 0.5\n",
        "    x = np.clip(x, 0, 1)\n",
        "\n",
        "    # convert to RGB array\n",
        "    x *= 255\n",
        "    #x = x.transpose((1, 2, 0))\n",
        "    x = np.clip(x, 0, 255).astype('uint8')\n",
        "    return x\n",
        "\n",
        "def vis_img_in_filter(img = np.array(X_train[2]).reshape((1, 28, 28, 1)).astype(np.float64), \n",
        "                      layer_name = 'conv2d_3'):\n",
        "    layer_output = layer_dict[layer_name].output\n",
        "    img_ascs = list()\n",
        "    for filter_index in range(layer_output.shape[3]):\n",
        "        # build a loss function that maximizes the activation\n",
        "        # of the nth filter of the layer considered\n",
        "        loss = K.mean(layer_output[:, :, :, filter_index])\n",
        "\n",
        "        # compute the gradient of the input picture wrt this loss\n",
        "        grads = K.gradients(loss, model.input)[0]\n",
        "\n",
        "        # normalization trick: we normalize the gradient\n",
        "        grads /= (K.sqrt(K.mean(K.square(grads))) + 1e-5)\n",
        "\n",
        "        # this function returns the loss and grads given the input picture\n",
        "        iterate = K.function([model.input], [loss, grads])\n",
        "\n",
        "        # step size for gradient ascent\n",
        "        step = 5.\n",
        "\n",
        "        img_asc = np.array(img)\n",
        "        # run gradient ascent for 20 steps\n",
        "        for i in range(20):\n",
        "            loss_value, grads_value = iterate([img_asc])\n",
        "            img_asc += grads_value * step\n",
        "\n",
        "        img_asc = img_asc[0]\n",
        "        img_ascs.append(deprocess_image(img_asc).reshape((28, 28)))\n",
        "        \n",
        "    if layer_output.shape[3] >= 35:\n",
        "        plot_x, plot_y = 6, 6\n",
        "    elif layer_output.shape[3] >= 23:\n",
        "        plot_x, plot_y = 4, 6\n",
        "    elif layer_output.shape[3] >= 11:\n",
        "        plot_x, plot_y = 2, 6\n",
        "    else:\n",
        "        plot_x, plot_y = 1, 2\n",
        "    fig, ax = plt.subplots(plot_x, plot_y, figsize = (12, 12))\n",
        "    ax[0, 0].imshow(img.reshape((28, 28)), cmap = 'gray')\n",
        "    ax[0, 0].set_title('Input image')\n",
        "    fig.suptitle('Input image and %s filters' % (layer_name,))\n",
        "    fig.tight_layout(pad = 0.3, rect = [0, 0, 0.9, 0.9])\n",
        "    for (x, y) in [(i, j) for i in range(plot_x) for j in range(plot_y)]:\n",
        "        if x == 0 and y == 0:\n",
        "            continue\n",
        "        ax[x, y].imshow(img_ascs[x * plot_y + y - 1], cmap = 'gray')\n",
        "        ax[x, y].set_title('filter %d' % (x * plot_y + y - 1))\n",
        "\n",
        "vis_img_in_filter()"
      ],
      "execution_count": 16,
      "outputs": [
        {
          "output_type": "display_data",
          "data": {
            "image/png": "[encoded data removed]",
            "text/plain": [
              "<Figure size 864x864 with 12 Axes>"
            ]
          },
          "metadata": {
            "tags": []
          }
        }
      ]
    }
  ]
}